{
 "cells": [
  {
   "cell_type": "markdown",
   "metadata": {},
   "source": [
    "# Deep Learning for Image Classification\n",
    "\n",
    "Welcome to deep learning for image classification tutorial!\n",
    "**In this notebook, you will**:\n",
    "- Learn the basics of PyTorch, a powerful but easy to use package for scientific computing (and deep learning)\n",
    "- Learn how to build and train a convolutional neural network for image classification.\n",
    "\n",
    "\n",
    "## I. PyTorch Tutorial\n",
    "\n",
    "We will briefly go through the basics of the PyTorch package, playing with toy examples.\n",
    "\n",
    "If you know already how to use PyTorch, then you can directly go to the second part of this tutorial\n",
    "\n",
    "## II. Training a classifier\n",
    "\n",
    "In this part, we will train a Convolutional Neural Network to classify images of 10 different classes (dogs, cats, car, ...) and see how our model performs on the test set.\n",
    "\n",
    "## III. Exploring CNN Architectures\n",
    "\n",
    "This is the part where you get your hands dirty ;). Your mission is to experiment different CNN architectures and set of hyperparameters in order to obtain the best accuracy on the test set!\n"
   ]
  },
  {
   "cell_type": "code",
   "execution_count": 1,
   "metadata": {
    "colab": {
     "autoexec": {
      "startup": false,
      "wait_interval": 0
     }
    },
    "colab_type": "code",
    "collapsed": true,
    "id": "GkjN23FKt2D-"
   },
   "outputs": [],
   "source": [
    "%matplotlib inline"
   ]
  },
  {
   "cell_type": "code",
   "execution_count": 2,
   "metadata": {
    "colab": {
     "autoexec": {
      "startup": false,
      "wait_interval": 0
     }
    },
    "colab_type": "code",
    "collapsed": true,
    "id": "TYF_C050t2EU"
   },
   "outputs": [],
   "source": [
    "# Python 2/3 compatibility\n",
    "from __future__ import print_function, division\n",
    "\n",
    "import time\n",
    "import numpy as np\n",
    "\n",
    "# Import plotting functions\n",
    "from plot_utils import plot_confusion_matrix, imshow, plot_losses"
   ]
  },
  {
   "cell_type": "markdown",
   "metadata": {},
   "source": [
    "# I. What is PyTorch ?\n",
    "\n",
    "It’s a Python based scientific computing package targeted at two sets of audiences:\n",
    "\n",
    "- A replacement for numpy to use the power of GPUs\n",
    "- A deep learning research platform that provides maximum flexibility and speed\n",
    "\n",
    "\n",
    "## PyTorch Basics\n",
    "\n",
    "In the next steps, we will briefly see how to use PyTorch and exploits its power:\n",
    "\n",
    "1. PyTorch Installation\n",
    "2. PyTorch Tensors\n",
    "3. Numpy Bridge\n",
    "4. Variable and automatic differentiation\n",
    "\n",
    "\n",
    "### 1. Install Pytorch\n",
    "\n",
    "Go to [http://pytorch.org/](http://pytorch.org/) and select the right version (windows is not currently officially supported but you can try this [link](https://www.superdatascience.com/pytorch/))\n",
    "\n",
    "Optionally you can use a docker image. See images on [docker hub](https://hub.docker.com/search/?isAutomated=0&isOfficial=0&page=1&pullCount=0&q=pytorch&starCount=0) or build it from the official repo: [https://github.com/pytorch/pytorch#docker-image](https://github.com/pytorch/pytorch#docker-image)\n",
    "\n",
    "[Official Tutorial](http://pytorch.org/tutorials/beginner/blitz/tensor_tutorial.html)"
   ]
  },
  {
   "cell_type": "code",
   "execution_count": 3,
   "metadata": {
    "collapsed": true
   },
   "outputs": [],
   "source": [
    "# Import torch and create the alias \"th\"\n",
    "# instead of writing torch.name_of_a_method() , we only need to write th.name_of_a_method()\n",
    "# (similarly to numpy imported as np)\n",
    "import torch as th"
   ]
  },
  {
   "cell_type": "markdown",
   "metadata": {},
   "source": [
    "### 2. PyTorch Tensors\n",
    "\n",
    "A `torch.Tensor` is a multi-dimensional matrix containing elements of a single data type.\n",
    "\n",
    "Tensors are similar to numpy’s ndarrays, but they have a super-power: Tensors can also be used on a GPU to accelerate computing."
   ]
  },
  {
   "cell_type": "code",
   "execution_count": 4,
   "metadata": {},
   "outputs": [
    {
     "name": "stdout",
     "output_type": "stream",
     "text": [
      "Float Tensor of zeros\n",
      "\n",
      " 0\n",
      " 0\n",
      " 0\n",
      "[torch.FloatTensor of size 3]\n",
      "\n"
     ]
    }
   ],
   "source": [
    "# Create tensors (FloatTensor by default)\n",
    "zeros = th.zeros(3)\n",
    "\n",
    "print(\"Float Tensor of zeros\")\n",
    "print(zeros)"
   ]
  },
  {
   "cell_type": "markdown",
   "metadata": {},
   "source": [
    "Tensor can only contain one data type (Int, Float, Double, ...).\n",
    "However, tensor can be cast to other types. For examples, you can use the `.int()` method to convert a FloatTensor into an IntTensor"
   ]
  },
  {
   "cell_type": "code",
   "execution_count": 5,
   "metadata": {},
   "outputs": [
    {
     "name": "stdout",
     "output_type": "stream",
     "text": [
      "Float Tensor\n",
      "\n",
      " 1.1000  1.1000\n",
      " 1.1000  1.1000\n",
      " 1.1000  1.1000\n",
      "[torch.FloatTensor of size 3x2]\n",
      "\n",
      "Tensor converted to Int Tensor (transposed)\n",
      "\n",
      " 1  1  1\n",
      " 1  1  1\n",
      "[torch.IntTensor of size 2x3]\n",
      "\n"
     ]
    }
   ],
   "source": [
    "float_tensor = 1.1 * th.ones(3, 2)\n",
    "# Convert FloatTensor to Int tensor\n",
    "int_tensor = float_tensor.int()\n",
    "\n",
    "print(\"Float Tensor\")\n",
    "print(float_tensor)\n",
    "\n",
    "print(\"Tensor converted to Int Tensor (transposed)\")\n",
    "print(int_tensor.transpose(dim0=0, dim1=1))"
   ]
  },
  {
   "cell_type": "markdown",
   "metadata": {},
   "source": [
    "To know the shape of a given tensor, you can use the `.size()` method (the numpy equivalent is `.shape`)"
   ]
  },
  {
   "cell_type": "code",
   "execution_count": 6,
   "metadata": {},
   "outputs": [
    {
     "name": "stdout",
     "output_type": "stream",
     "text": [
      "Tensor Shape: torch.Size([3, 2])\n"
     ]
    }
   ],
   "source": [
    "# Display the shape of a tensor\n",
    "# it can be used as a tuple\n",
    "print(\"Tensor Shape: {}\".format(float_tensor.size()))"
   ]
  },
  {
   "cell_type": "markdown",
   "metadata": {},
   "source": [
    "#### Basic Operations on tensors\n",
    "\n",
    "Tensor support all basic linear algebra operations. You can read the full documentation [here](http://pytorch.org/docs/master/tensors.html)"
   ]
  },
  {
   "cell_type": "code",
   "execution_count": 7,
   "metadata": {},
   "outputs": [
    {
     "data": {
      "text/plain": [
       "\n",
       " 3.2000  3.2000\n",
       " 3.2000  3.2000\n",
       " 3.2000  3.2000\n",
       "[torch.FloatTensor of size 3x2]"
      ]
     },
     "execution_count": 7,
     "metadata": {},
     "output_type": "execute_result"
    }
   ],
   "source": [
    "2 * float_tensor + 1"
   ]
  },
  {
   "cell_type": "markdown",
   "metadata": {},
   "source": [
    "Example of matrix multiplication:"
   ]
  },
  {
   "cell_type": "code",
   "execution_count": 8,
   "metadata": {},
   "outputs": [
    {
     "name": "stdout",
     "output_type": "stream",
     "text": [
      "Size of the resulting tensor after matrix multiplication:\n",
      "torch.Size([3, 3])\n"
     ]
    }
   ],
   "source": [
    "# Sample from random uniform distribution\n",
    "a = th.rand(3, 1)\n",
    "b = th.rand(1, 3)\n",
    "# Matrix Multiplication\n",
    "result = th.mm(a, b)\n",
    "\n",
    "print(\"Size of the resulting tensor after matrix multiplication:\")\n",
    "print(result.size())"
   ]
  },
  {
   "cell_type": "markdown",
   "metadata": {},
   "source": [
    "PyTorch tensors also supports numpy indexing:"
   ]
  },
  {
   "cell_type": "code",
   "execution_count": 9,
   "metadata": {},
   "outputs": [
    {
     "name": "stdout",
     "output_type": "stream",
     "text": [
      "\n",
      " Indexing Demo:\n",
      "\n",
      " 0.4880\n",
      " 0.2791\n",
      " 0.4922\n",
      "[torch.FloatTensor of size 3]\n",
      "\n"
     ]
    }
   ],
   "source": [
    "print(\"\\n Indexing Demo:\")\n",
    "print(result[:, 1])"
   ]
  },
  {
   "cell_type": "markdown",
   "metadata": {},
   "source": [
    "### 3. Numpy Bridge\n",
    "WARNING: PyTorch Tensors are different from numpy arrays\n",
    "even if they have a lot in common\n",
    "\n",
    "Though, it is **easy with PyTorch to tranform Tensors to Numpy arrays and vice versa**"
   ]
  },
  {
   "cell_type": "markdown",
   "metadata": {},
   "source": [
    "#### Numpy to PyTorch\n",
    "\n",
    "Creating PyTorch tensors from numpy array is done via the `torch.from_numpy()` function\n",
    "\n",
    "(here `th.from_numpy()` because we renamed *torch* as *th*)"
   ]
  },
  {
   "cell_type": "code",
   "execution_count": 10,
   "metadata": {},
   "outputs": [
    {
     "name": "stdout",
     "output_type": "stream",
     "text": [
      "Numpy Matrix:\n",
      "[[ 5.  1.]\n",
      " [ 1.  1.]]\n",
      "PyTorch Tensor:\n",
      "\n",
      " 5  1\n",
      " 1  1\n",
      "[torch.FloatTensor of size 2x2]\n",
      "\n"
     ]
    }
   ],
   "source": [
    "# np.float32 -> th.FloatTensor\n",
    "ones_matrix = np.ones((2, 2), dtype=np.float32)\n",
    "\n",
    "# the matrix is pass by reference:\n",
    "# if we modify the original numpy array, the tensor is also edited\n",
    "ones_tensor = th.from_numpy(ones_matrix)\n",
    "ones_matrix[0, 0] = 5\n",
    "\n",
    "print(\"Numpy Matrix:\")\n",
    "print(ones_matrix)\n",
    "\n",
    "print(\"PyTorch Tensor:\")\n",
    "print(ones_tensor)"
   ]
  },
  {
   "cell_type": "markdown",
   "metadata": {},
   "source": [
    "#### PyTorch to Numpy\n",
    "\n",
    "To transform a PyTorch tensor to a numpy array, you can simply call `.numpy()` method."
   ]
  },
  {
   "cell_type": "code",
   "execution_count": 11,
   "metadata": {},
   "outputs": [
    {
     "name": "stdout",
     "output_type": "stream",
     "text": [
      "\n",
      " 0.0000  0.0000  0.0000\n",
      " 0.0000  5.5000  0.0000\n",
      " 0.0000  0.0000  0.0000\n",
      "[torch.FloatTensor of size 3x3]\n",
      " [[ 0.   0.   0. ]\n",
      " [ 0.   5.5  0. ]\n",
      " [ 0.   0.   0. ]]\n"
     ]
    }
   ],
   "source": [
    "zeros_tensor = th.zeros(3, 3)\n",
    "zeros_matrix = zeros_tensor.numpy()\n",
    "\n",
    "zeros_tensor[1, 1] = 5.5\n",
    "\n",
    "print(zeros_tensor, zeros_matrix)"
   ]
  },
  {
   "cell_type": "markdown",
   "metadata": {},
   "source": [
    "### 4. Variables and Automatic Differentiation\n",
    "\n",
    "PyTorch Variable **wraps a Tensor**, and supports nearly all of operations defined on it.\n",
    "But the real interest in using Variables is that they allow to **automatically compute gradients**. That is particulary useful for backpropagation.\n",
    "\n",
    "Once you finish your computation you can call `.backward()` and have all the gradients computed automatically.\n",
    "\n",
    "You can access the associated tensor through the  `.data` attribute, while the gradient w.r.t. this variable is accumulated into `.grad`.\n"
   ]
  },
  {
   "cell_type": "code",
   "execution_count": 12,
   "metadata": {
    "collapsed": true
   },
   "outputs": [],
   "source": [
    "from torch.autograd import Variable"
   ]
  },
  {
   "cell_type": "code",
   "execution_count": 13,
   "metadata": {},
   "outputs": [
    {
     "name": "stdout",
     "output_type": "stream",
     "text": [
      "Variable containing:\n",
      " 1  1\n",
      " 1  1\n",
      "[torch.FloatTensor of size 2x2]\n",
      "\n"
     ]
    }
   ],
   "source": [
    "# Variables are wrapper of tensors\n",
    "# so we first need to create a tensor\n",
    "ones_tensor = th.ones(2,2)\n",
    "\n",
    "# Then we can create a variable \n",
    "ones_variable = Variable(ones_tensor)\n",
    "print(ones_variable)"
   ]
  },
  {
   "cell_type": "markdown",
   "metadata": {},
   "source": [
    "The original tensor is accessible via the `.data` attribute:"
   ]
  },
  {
   "cell_type": "code",
   "execution_count": 14,
   "metadata": {},
   "outputs": [
    {
     "name": "stdout",
     "output_type": "stream",
     "text": [
      "Original Tensor (using .data):\n",
      "\n",
      " 1  1\n",
      " 1  1\n",
      "[torch.FloatTensor of size 2x2]\n",
      "\n"
     ]
    }
   ],
   "source": [
    "print(\"Original Tensor (using .data):\")\n",
    "print(ones_variable.data)"
   ]
  },
  {
   "cell_type": "markdown",
   "metadata": {},
   "source": [
    "If we modify the tensor,\n",
    "changes will be also made to the variable data"
   ]
  },
  {
   "cell_type": "code",
   "execution_count": 15,
   "metadata": {},
   "outputs": [
    {
     "name": "stdout",
     "output_type": "stream",
     "text": [
      "Variable containing:\n",
      " 20   1\n",
      "  1   1\n",
      "[torch.FloatTensor of size 2x2]\n",
      "\n",
      "Variable containing:\n",
      " 20\n",
      "[torch.FloatTensor of size 1]\n",
      "\n"
     ]
    }
   ],
   "source": [
    "ones_tensor[0, 0] = 20\n",
    "\n",
    "# Modified Variable\n",
    "print(ones_variable)\n",
    "\n",
    "# Variable supports most of tensor operations, such as indexing:\n",
    "print(ones_variable[0, 0])"
   ]
  },
  {
   "cell_type": "markdown",
   "metadata": {},
   "source": [
    "To demonstrate the use of PyTorch Variable,\n",
    "let's define a simple linear transformation of a variable $x$ :\n",
    "\n",
    "$$y = a \\cdot x + b$$\n",
    "\n",
    "PyTorch will allows us to automatically compute $$\\frac{dy}{dx} $$"
   ]
  },
  {
   "cell_type": "code",
   "execution_count": 16,
   "metadata": {},
   "outputs": [
    {
     "name": "stdout",
     "output_type": "stream",
     "text": [
      "Variable containing:\n",
      " 7\n",
      "[torch.FloatTensor of size 1]\n",
      "\n"
     ]
    }
   ],
   "source": [
    "# Variables are wrapper of tensors\n",
    "# so we first need to create a tensor\n",
    "input_tensor = th.ones(1)\n",
    "\n",
    "# Create a variable and tell PyTorch\n",
    "# that we want to compute the gradient\n",
    "x = Variable(input_tensor, requires_grad=True)\n",
    "\n",
    "# Transformation constants\n",
    "a = 2\n",
    "b = 5\n",
    "\n",
    "# Define the tranformation and store the result\n",
    "# in a new variable\n",
    "y = a * x + b\n",
    "\n",
    "print(y)"
   ]
  },
  {
   "cell_type": "markdown",
   "metadata": {},
   "source": [
    "Let's backprop !"
   ]
  },
  {
   "cell_type": "code",
   "execution_count": 17,
   "metadata": {
    "collapsed": true
   },
   "outputs": [],
   "source": [
    "y.backward()"
   ]
  },
  {
   "cell_type": "markdown",
   "metadata": {},
   "source": [
    "`x.grad` print gradient:\n",
    "\n",
    "$$\\frac{dy}{dx} = a$$\n",
    "\n",
    "because:\n",
    "\n",
    "$$y = a \\cdot x + b$$"
   ]
  },
  {
   "cell_type": "code",
   "execution_count": 18,
   "metadata": {},
   "outputs": [
    {
     "data": {
      "text/plain": [
       "Variable containing:\n",
       " 2\n",
       "[torch.FloatTensor of size 1]"
      ]
     },
     "execution_count": 18,
     "metadata": {},
     "output_type": "execute_result"
    }
   ],
   "source": [
    "x.grad"
   ]
  },
  {
   "cell_type": "markdown",
   "metadata": {},
   "source": [
    "You can now change the values of $a$ and $b$ see their effects on the gradient\n",
    "(HINT: `x.grad` only depends on the value of `a`)"
   ]
  },
  {
   "cell_type": "markdown",
   "metadata": {},
   "source": [
    "### Bonus: PyTorch and GPU (CUDA support)\n",
    "\n",
    "If your computer has a CUDA enabled GPU, you can move\n",
    "tensor/variables the GPU by simply using the `.cuda()` method.\n",
    "Otherwise, PyTorch will use your CPU.\n",
    "\n",
    "```python\n",
    "# let us run this cell only if CUDA is available\n",
    "if torch.cuda.is_available():\n",
    "    x = x.cuda()\n",
    "    y = y.cuda()\n",
    "    z = x + y\n",
    "    # Convert to numpy array\n",
    "    # we first need to move the tensor back to the cpu\n",
    "    z_matrix = z.cpu().numpy()\n",
    "```"
   ]
  },
  {
   "cell_type": "markdown",
   "metadata": {
    "colab_type": "text",
    "id": "0kqEBjG6t2Eh"
   },
   "source": [
    "\n",
    "# II. Training a classifier\n",
    "\n",
    "\n",
    "For this tutorial, we will use the CIFAR10 dataset.\n",
    "There are 10 classes: ‘airplane’, ‘automobile’, ‘bird’, ‘cat’, ‘deer’,\n",
    "‘dog’, ‘frog’, ‘horse’, ‘ship’, ‘truck’. The images in CIFAR-10 are of\n",
    "size 3x32x32, i.e. 3-channel color images of 32x32 pixels in size.\n",
    "\n",
    "\n",
    "![CIFAR10](http://pytorch.org/tutorials/_images/cifar10.png)\n",
    "\n",
    "\n",
    "Training an image classifier\n",
    "----------------------------\n",
    "\n",
    "We will do the following steps in order:\n",
    "\n",
    "1. Load and normalize the CIFAR10 training and test datasets using\n",
    "   ``torchvision``\n",
    "2. Define a Convolution Neural Network\n",
    "3. Define a loss function\n",
    "4. Train the network on the training data\n",
    "5. Test the network on the test data"
   ]
  },
  {
   "cell_type": "markdown",
   "metadata": {},
   "source": [
    "### 1. Loading and normalizing CIFAR10\n",
    "\n",
    "Using ``torchvision``, it’s extremely easy to load CIFAR10."
   ]
  },
  {
   "cell_type": "code",
   "execution_count": 19,
   "metadata": {
    "colab": {
     "autoexec": {
      "startup": false,
      "wait_interval": 0
     }
    },
    "colab_type": "code",
    "collapsed": true,
    "id": "KRrvrIi0t2Em"
   },
   "outputs": [],
   "source": [
    "import torch\n",
    "import torchvision\n",
    "import torchvision.transforms as transforms"
   ]
  },
  {
   "cell_type": "markdown",
   "metadata": {},
   "source": [
    "Seed the random generator to have reproducible results:"
   ]
  },
  {
   "cell_type": "code",
   "execution_count": 20,
   "metadata": {},
   "outputs": [
    {
     "data": {
      "text/plain": [
       "<torch._C.Generator at 0x7f11edc39a98>"
      ]
     },
     "execution_count": 20,
     "metadata": {},
     "output_type": "execute_result"
    }
   ],
   "source": [
    "seed = 2\n",
    "np.random.seed(seed)\n",
    "torch.manual_seed(seed)"
   ]
  },
  {
   "cell_type": "markdown",
   "metadata": {},
   "source": [
    "### Define subset of the dataset (so it is faster to train)"
   ]
  },
  {
   "cell_type": "code",
   "execution_count": 21,
   "metadata": {
    "collapsed": true
   },
   "outputs": [],
   "source": [
    "from torch.utils.data.sampler import SubsetRandomSampler\n",
    "\n",
    "n_training_samples = 20000 # Max: 50 000 - n_val_samples\n",
    "n_val_samples = 5000\n",
    "n_test_samples = 5000\n",
    "\n",
    "train_sampler = SubsetRandomSampler(np.arange(n_training_samples, dtype=np.int64))\n",
    "val_sampler = SubsetRandomSampler(np.arange(n_training_samples, n_training_samples + n_val_samples, dtype=np.int64))\n",
    "test_sampler = SubsetRandomSampler(np.arange(n_test_samples, dtype=np.int64))"
   ]
  },
  {
   "cell_type": "markdown",
   "metadata": {
    "colab_type": "text",
    "id": "evFXNmbst2Ez"
   },
   "source": [
    "The output of torchvision datasets are PILImage images of range [0, 1].\n",
    "We transform them to Tensors of normalized range [-1, 1]\n",
    "\n"
   ]
  },
  {
   "cell_type": "code",
   "execution_count": 22,
   "metadata": {
    "colab": {
     "autoexec": {
      "startup": false,
      "wait_interval": 0
     },
     "output_extras": [
      {}
     ]
    },
    "colab_type": "code",
    "id": "ZJ-hYN00t2E2",
    "outputId": "15cc7a8c-df46-4ae6-fa72-64783df8e0d7"
   },
   "outputs": [
    {
     "name": "stdout",
     "output_type": "stream",
     "text": [
      "Files already downloaded and verified\n",
      "Files already downloaded and verified\n"
     ]
    }
   ],
   "source": [
    "num_workers = 2\n",
    "test_batch_size = 4\n",
    "\n",
    "transform = transforms.Compose(\n",
    "    [transforms.ToTensor(),\n",
    "     transforms.Normalize((0.5, 0.5, 0.5), (0.5, 0.5, 0.5))])\n",
    "\n",
    "train_set = torchvision.datasets.CIFAR10(root='./data', train=True,\n",
    "                                        download=True, transform=transform)\n",
    "\n",
    "train_loader = torch.utils.data.DataLoader(train_set, batch_size=test_batch_size, sampler=train_sampler,\n",
    "                                          num_workers=num_workers)\n",
    "\n",
    "test_set = torchvision.datasets.CIFAR10(root='./data', train=False,\n",
    "                                       download=True, transform=transform)\n",
    "test_loader = torch.utils.data.DataLoader(test_set, batch_size=test_batch_size, sampler=test_sampler,\n",
    "                                         num_workers=num_workers)\n",
    "\n",
    "classes = ('plane', 'car', 'bird', 'cat',\n",
    "           'deer', 'dog', 'frog', 'horse', 'ship', 'truck')"
   ]
  },
  {
   "cell_type": "markdown",
   "metadata": {
    "colab_type": "text",
    "id": "cGWVnBOft2FI"
   },
   "source": [
    "Let us show some of the training images, for fun.\n",
    "\n"
   ]
  },
  {
   "cell_type": "code",
   "execution_count": 23,
   "metadata": {
    "colab": {
     "autoexec": {
      "startup": false,
      "wait_interval": 0
     },
     "output_extras": [
      {},
      {}
     ]
    },
    "colab_type": "code",
    "id": "68OfC35ut2FM",
    "outputId": "44f217d1-415c-4f5e-c7c1-7f3a33dad449"
   },
   "outputs": [
    {
     "name": "stdout",
     "output_type": "stream",
     "text": [
      "      bird       ship       frog      horse\n"
     ]
    },
    {
     "data": {
      "image/png": "[encoded data removed]",
      "text/plain": [
       "<matplotlib.figure.Figure at 0x7f1211c2d208>"
      ]
     },
     "metadata": {},
     "output_type": "display_data"
    }
   ],
   "source": [
    "# get some random training images\n",
    "dataiter = iter(train_loader)\n",
    "images, labels = dataiter.next()\n",
    "\n",
    "# show images\n",
    "imshow(torchvision.utils.make_grid(images))\n",
    "# print labels\n",
    "print(' '.join('{:>10}'.format(classes[labels[j]]) for j in range(test_batch_size)))"
   ]
  },
  {
   "cell_type": "markdown",
   "metadata": {
    "colab_type": "text",
    "id": "8ULHEu5Zt2Fa"
   },
   "source": [
    "### 2. Define a Convolution Neural Network\n"
   ]
  },
  {
   "cell_type": "code",
   "execution_count": 24,
   "metadata": {
    "collapsed": true
   },
   "outputs": [],
   "source": [
    "# Useful imports\n",
    "from torch.autograd import Variable\n",
    "import torch.nn as nn\n",
    "import torch.nn.functional as F"
   ]
  },
  {
   "cell_type": "markdown",
   "metadata": {
    "colab_type": "text",
    "id": "0JcmlEe8t2Fe"
   },
   "source": [
    "####  Forward propagation\n",
    "\n",
    "In PyTorch, there are built-in functions that carry out the convolution steps for you.\n",
    "\n",
    "- **nn.Conv2d(in_channels, out_channels, kernel_size, stride=1, padding=0):** Convolution layer. You can read the full documentation [here](http://pytorch.org/docs/master/nn.html#conv2d)\n",
    "\n",
    "- **nn.MaxPool2d(kernel_size, stride=None, padding=0):** Max pooling layer. You can read the full documentation [here](http://pytorch.org/docs/master/nn.html#maxpool2d)\n",
    "\n",
    "- **F.relu(Z1):** computes the elementwise ReLU of Z1 (which can be any shape). You can read the full documentation [here.](http://pytorch.org/docs/master/nn.html#torch.nn.ReLU)\n",
    "\n",
    "- **x.view(new_shape)**: Returns a new tensor with the same data but different size. It is the equivalent of numpy function *reshape* (Gives a new shape to an array without changing its data.). You can read the full documentation [here.](http://pytorch.org/docs/master/tensors.html#torch.Tensor.view)\n",
    "\n",
    "- **nn.Linear(in_features, out_features):** Applies a linear transformation to the incoming data: $y = Ax + b$, it is also called a fully connected layer. You can read the full documentation [here.](http://pytorch.org/docs/master/nn.html#linear-layers)"
   ]
  },
  {
   "cell_type": "markdown",
   "metadata": {},
   "source": [
    "#### Simple Convolutional Neural Network\n",
    "\n",
    "ConvNet with one convolution layer followed by a max pooling,\n",
    "one fully connected layer and the output layer"
   ]
  },
  {
   "cell_type": "code",
   "execution_count": 25,
   "metadata": {
    "collapsed": true
   },
   "outputs": [],
   "source": [
    "class SimpleConvolutionalNetwork(nn.Module):\n",
    "    def __init__(self):\n",
    "        super(SimpleConvolutionalNetwork, self).__init__()\n",
    "        \n",
    "        self.conv1 = nn.Conv2d(3, 18, kernel_size=7, stride=2, padding=1)\n",
    "        self.pool = nn.MaxPool2d(kernel_size=2, stride=2, padding=0)\n",
    "        self.fc1 = nn.Linear(18 * 7 * 7, 64)\n",
    "        self.fc2 = nn.Linear(64, 10)\n",
    "\n",
    "    def forward(self, x):\n",
    "        \"\"\"\n",
    "        Forward pass,\n",
    "        x shape is (batch_size, 3, 32, 32)\n",
    "        (color channel first)\n",
    "        in the comments, we omit the batch_size in the shape\n",
    "        \"\"\"\n",
    "        # shape : 3x32x32 -> 18x14x14\n",
    "        x = F.relu(self.conv1(x))\n",
    "        # 18x14x14 -> 18x7x7\n",
    "        x = self.pool(x)\n",
    "        # 18x7x7 -> 882\n",
    "        x = x.view(-1, 18 * 7 * 7)\n",
    "        # 882 -> 64\n",
    "        x = F.relu(self.fc1(x))\n",
    "        # 64 -> 10\n",
    "        x = self.fc2(x)\n",
    "        return x"
   ]
  },
  {
   "cell_type": "markdown",
   "metadata": {},
   "source": [
    "#### Linear Classifier"
   ]
  },
  {
   "cell_type": "code",
   "execution_count": 26,
   "metadata": {
    "collapsed": true
   },
   "outputs": [],
   "source": [
    "class LinearClassifier(nn.Module):\n",
    "    \"\"\"\n",
    "    Linear Classifier\n",
    "    \"\"\"\n",
    "    def __init__(self):\n",
    "        super(LinearClassifier, self).__init__()\n",
    "        self.linear = nn.Linear(32 * 32 * 3, 10)\n",
    "\n",
    "    def forward(self, x):\n",
    "        # Flatten input 3x32x32 -> 3072\n",
    "        x = x.view(x.size(0), -1)\n",
    "        return self.linear(x)"
   ]
  },
  {
   "cell_type": "markdown",
   "metadata": {
    "colab_type": "text",
    "id": "2SQi9Xf-t2Fu"
   },
   "source": [
    "### 3. Define a Loss function and optimizer\n",
    "\n",
    "Let's use a Classification Cross-Entropy loss and ADAM (optionnaly SGD with momentum)\n",
    "\n"
   ]
  },
  {
   "cell_type": "code",
   "execution_count": 27,
   "metadata": {
    "colab": {
     "autoexec": {
      "startup": false,
      "wait_interval": 0
     }
    },
    "colab_type": "code",
    "collapsed": true,
    "id": "DOUiPtZQt2Fx"
   },
   "outputs": [],
   "source": [
    "import torch.optim as optim\n",
    "\n",
    "def createLossAndOptimizer(net, learning_rate=0.001):\n",
    "    # it combines softmax with negative log likelihood loss\n",
    "    criterion = nn.CrossEntropyLoss()  \n",
    "    #optimizer = optim.SGD(net.parameters(), lr=learning_rate, momentum=0.9)\n",
    "    optimizer = optim.Adam(net.parameters(), lr=learning_rate)\n",
    "    return criterion, optimizer"
   ]
  },
  {
   "cell_type": "markdown",
   "metadata": {
    "colab_type": "text",
    "id": "saJW5bKRt2F9"
   },
   "source": [
    "### 4. Train the network\n",
    "\n",
    "\n",
    "This is when things start to get interesting.\n",
    "We simply have to loop over our data iterator, and feed the inputs to the\n",
    "network and optimize\n",
    "\n"
   ]
  },
  {
   "cell_type": "markdown",
   "metadata": {},
   "source": [
    "#### Hyperparameters"
   ]
  },
  {
   "cell_type": "code",
   "execution_count": 28,
   "metadata": {
    "collapsed": true
   },
   "outputs": [],
   "source": [
    "learning_rate = 0.001\n",
    "batch_size = 32\n",
    "n_epochs = 10"
   ]
  },
  {
   "cell_type": "markdown",
   "metadata": {},
   "source": [
    "#### Data loader"
   ]
  },
  {
   "cell_type": "code",
   "execution_count": 29,
   "metadata": {
    "collapsed": true
   },
   "outputs": [],
   "source": [
    "def get_train_loader(batch_size):\n",
    "    return torch.utils.data.DataLoader(train_set, batch_size=batch_size, sampler=train_sampler,\n",
    "                                              num_workers=num_workers)\n",
    "\n",
    "# Use larger batchsize for validation to speed up computation\n",
    "val_loader = torch.utils.data.DataLoader(train_set, batch_size=128, sampler=val_sampler,\n",
    "                                          num_workers=num_workers)"
   ]
  },
  {
   "cell_type": "markdown",
   "metadata": {},
   "source": [
    "#### Training loop\n",
    "The training script: it takes ~15s per epoch with batch_size = 16"
   ]
  },
  {
   "cell_type": "code",
   "execution_count": 30,
   "metadata": {
    "colab": {
     "autoexec": {
      "startup": false,
      "wait_interval": 0
     },
     "output_extras": [
      {}
     ]
    },
    "colab_type": "code",
    "id": "dATbDR5pt2GE",
    "outputId": "4657b0c9-517a-48ba-8b09-abd7e40cd793"
   },
   "outputs": [],
   "source": [
    "def train(net, batch_size, n_epochs, learning_rate):\n",
    "    \"\"\"\n",
    "    Train a neural network and print statitics of the training\n",
    "    \n",
    "    :param  net: (PyTorch Neural Network)\n",
    "    :param batch_size: (int)\n",
    "    :param n_epochs: (int)  Number of iterations on the training set\n",
    "    :param learning_rate: (float) learning rate used by the optimizer\n",
    "    \"\"\"\n",
    "    print(\"===== HYPERPARAMETERS =====\")\n",
    "    print(\"batch_size=\", batch_size)\n",
    "    print(\"n_epochs=\", n_epochs)\n",
    "    print(\"learning_rate=\", learning_rate)\n",
    "    print(\"=\" * 30)\n",
    "    \n",
    "    train_loader = get_train_loader(batch_size)\n",
    "    n_minibatches = len(train_loader)\n",
    "\n",
    "    criterion, optimizer = createLossAndOptimizer(net, learning_rate)\n",
    "    # Init variables used for plotting the loss\n",
    "    train_history = []\n",
    "    val_history = []\n",
    "\n",
    "    training_start_time = time.time()\n",
    "    best_error = np.inf\n",
    "    best_model_path = \"best_model.pth\"\n",
    "\n",
    "    for epoch in range(n_epochs):  # loop over the dataset multiple times\n",
    "\n",
    "        running_loss = 0.0\n",
    "        print_every = n_minibatches // 10\n",
    "        start_time = time.time()\n",
    "        total_train_loss = 0\n",
    "        \n",
    "        for i, data in enumerate(train_loader, 0):\n",
    "            # get the inputs\n",
    "            inputs, labels = data\n",
    "\n",
    "            # wrap them in Variable\n",
    "            inputs, labels = Variable(inputs), Variable(labels)\n",
    "\n",
    "            # zero the parameter gradients\n",
    "            optimizer.zero_grad()\n",
    "\n",
    "            # forward + backward + optimize\n",
    "            outputs = net(inputs)\n",
    "            loss = criterion(outputs, labels)\n",
    "            loss.backward()\n",
    "            optimizer.step()\n",
    "\n",
    "            # print statistics\n",
    "            running_loss += loss.data[0]\n",
    "            total_train_loss += loss.data[0]\n",
    "\n",
    "            # print every 10th of epoch\n",
    "            if (i + 1) % (print_every + 1) == 0:    \n",
    "                print(\"Epoch {}, {:d}% \\t train_loss: {:.2f} took: {:.2f}s\".format(\n",
    "                      epoch + 1, int(100 * (i + 1) / n_minibatches), running_loss / print_every,\n",
    "                      time.time() - start_time))\n",
    "                running_loss = 0.0\n",
    "                start_time = time.time()\n",
    "\n",
    "        train_history.append(total_train_loss / len(train_loader))\n",
    "\n",
    "        total_val_loss = 0\n",
    "        ## Do a pass on the validation set\n",
    "        for inputs, labels in val_loader:\n",
    "            # Wrap Tensors in Variables\n",
    "            inputs, labels = Variable(inputs), Variable(labels)\n",
    "            # Forward pass\n",
    "            predictions = net(inputs)\n",
    "            val_loss = criterion(predictions, labels)\n",
    "            total_val_loss += val_loss.data[0]\n",
    "            \n",
    "        val_history.append(total_val_loss / len(val_loader))\n",
    "        # Save model that performs best on validation set\n",
    "        if total_val_loss < best_error:\n",
    "            best_error = total_val_loss\n",
    "            th.save(net.state_dict(), best_model_path)\n",
    "\n",
    "        print(\"Validation loss = {:.2f}\".format(total_val_loss / len(val_loader)))\n",
    "\n",
    "    print(\"Training Finished, took {:.2f}s\".format(time.time() - training_start_time))\n",
    "    \n",
    "    # Load best model\n",
    "    net.load_state_dict(th.load(best_model_path))\n",
    "    \n",
    "    return train_history, val_history"
   ]
  },
  {
   "cell_type": "code",
   "execution_count": 31,
   "metadata": {},
   "outputs": [
    {
     "name": "stdout",
     "output_type": "stream",
     "text": [
      "===== HYPERPARAMETERS =====\n",
      "batch_size= 32\n",
      "n_epochs= 10\n",
      "learning_rate= 0.001\n",
      "==============================\n",
      "Epoch 1, 10% \t train_loss: 2.12 took: 0.73s\n",
      "Epoch 1, 20% \t train_loss: 1.86 took: 0.90s\n",
      "Epoch 1, 30% \t train_loss: 1.71 took: 0.59s\n",
      "Epoch 1, 40% \t train_loss: 1.68 took: 0.75s\n",
      "Epoch 1, 50% \t train_loss: 1.66 took: 0.60s\n",
      "Epoch 1, 60% \t train_loss: 1.56 took: 0.60s\n",
      "Epoch 1, 70% \t train_loss: 1.56 took: 0.73s\n",
      "Epoch 1, 80% \t train_loss: 1.50 took: 0.61s\n",
      "Epoch 1, 90% \t train_loss: 1.53 took: 0.62s\n",
      "Validation loss = 1.41\n",
      "Epoch 2, 10% \t train_loss: 1.42 took: 0.64s\n",
      "Epoch 2, 20% \t train_loss: 1.41 took: 0.71s\n",
      "Epoch 2, 30% \t train_loss: 1.39 took: 0.71s\n",
      "Epoch 2, 40% \t train_loss: 1.44 took: 0.66s\n",
      "Epoch 2, 50% \t train_loss: 1.38 took: 0.70s\n",
      "Epoch 2, 60% \t train_loss: 1.34 took: 0.72s\n",
      "Epoch 2, 70% \t train_loss: 1.33 took: 0.72s\n",
      "Epoch 2, 80% \t train_loss: 1.37 took: 0.66s\n",
      "Epoch 2, 90% \t train_loss: 1.34 took: 0.66s\n",
      "Validation loss = 1.27\n",
      "Epoch 3, 10% \t train_loss: 1.28 took: 0.71s\n",
      "Epoch 3, 20% \t train_loss: 1.24 took: 0.75s\n",
      "Epoch 3, 30% \t train_loss: 1.25 took: 0.74s\n",
      "Epoch 3, 40% \t train_loss: 1.23 took: 0.66s\n",
      "Epoch 3, 50% \t train_loss: 1.25 took: 0.63s\n",
      "Epoch 3, 60% \t train_loss: 1.24 took: 0.64s\n",
      "Epoch 3, 70% \t train_loss: 1.23 took: 0.65s\n",
      "Epoch 3, 80% \t train_loss: 1.15 took: 0.66s\n",
      "Epoch 3, 90% \t train_loss: 1.21 took: 0.66s\n",
      "Validation loss = 1.23\n",
      "Epoch 4, 10% \t train_loss: 1.15 took: 0.72s\n",
      "Epoch 4, 20% \t train_loss: 1.15 took: 0.72s\n",
      "Epoch 4, 30% \t train_loss: 1.21 took: 0.66s\n",
      "Epoch 4, 40% \t train_loss: 1.11 took: 0.70s\n",
      "Epoch 4, 50% \t train_loss: 1.14 took: 0.66s\n",
      "Epoch 4, 60% \t train_loss: 1.10 took: 0.67s\n",
      "Epoch 4, 70% \t train_loss: 1.15 took: 0.68s\n",
      "Epoch 4, 80% \t train_loss: 1.16 took: 0.85s\n",
      "Epoch 4, 90% \t train_loss: 1.11 took: 0.85s\n",
      "Validation loss = 1.18\n",
      "Epoch 5, 10% \t train_loss: 1.08 took: 0.73s\n",
      "Epoch 5, 20% \t train_loss: 1.04 took: 0.69s\n",
      "Epoch 5, 30% \t train_loss: 1.06 took: 1.19s\n",
      "Epoch 5, 40% \t train_loss: 1.13 took: 1.15s\n",
      "Epoch 5, 50% \t train_loss: 1.10 took: 1.18s\n",
      "Epoch 5, 60% \t train_loss: 1.08 took: 1.20s\n",
      "Epoch 5, 70% \t train_loss: 1.09 took: 1.47s\n",
      "Epoch 5, 80% \t train_loss: 1.04 took: 0.98s\n",
      "Epoch 5, 90% \t train_loss: 1.07 took: 0.92s\n",
      "Validation loss = 1.16\n",
      "Epoch 6, 10% \t train_loss: 1.02 took: 0.78s\n",
      "Epoch 6, 20% \t train_loss: 1.00 took: 0.63s\n",
      "Epoch 6, 30% \t train_loss: 1.04 took: 0.77s\n",
      "Epoch 6, 40% \t train_loss: 1.02 took: 0.78s\n",
      "Epoch 6, 50% \t train_loss: 1.01 took: 0.76s\n",
      "Epoch 6, 60% \t train_loss: 1.03 took: 0.78s\n",
      "Epoch 6, 70% \t train_loss: 1.03 took: 1.13s\n",
      "Epoch 6, 80% \t train_loss: 1.02 took: 1.19s\n",
      "Epoch 6, 90% \t train_loss: 1.03 took: 1.13s\n",
      "Validation loss = 1.16\n",
      "Epoch 7, 10% \t train_loss: 0.92 took: 0.70s\n",
      "Epoch 7, 20% \t train_loss: 0.98 took: 0.64s\n",
      "Epoch 7, 30% \t train_loss: 0.98 took: 0.67s\n",
      "Epoch 7, 40% \t train_loss: 0.98 took: 0.64s\n",
      "Epoch 7, 50% \t train_loss: 0.95 took: 0.65s\n",
      "Epoch 7, 60% \t train_loss: 1.01 took: 0.64s\n",
      "Epoch 7, 70% \t train_loss: 0.99 took: 0.76s\n",
      "Epoch 7, 80% \t train_loss: 0.99 took: 0.63s\n",
      "Epoch 7, 90% \t train_loss: 1.01 took: 0.65s\n",
      "Validation loss = 1.14\n",
      "Epoch 8, 10% \t train_loss: 0.88 took: 0.94s\n",
      "Epoch 8, 20% \t train_loss: 0.92 took: 1.25s\n",
      "Epoch 8, 30% \t train_loss: 0.92 took: 1.13s\n",
      "Epoch 8, 40% \t train_loss: 0.93 took: 1.13s\n",
      "Epoch 8, 50% \t train_loss: 0.93 took: 0.72s\n",
      "Epoch 8, 60% \t train_loss: 0.98 took: 0.72s\n",
      "Epoch 8, 70% \t train_loss: 0.94 took: 0.73s\n",
      "Epoch 8, 80% \t train_loss: 0.93 took: 0.72s\n",
      "Epoch 8, 90% \t train_loss: 0.97 took: 0.70s\n",
      "Validation loss = 1.16\n",
      "Epoch 9, 10% \t train_loss: 0.85 took: 0.71s\n",
      "Epoch 9, 20% \t train_loss: 0.88 took: 0.67s\n",
      "Epoch 9, 30% \t train_loss: 0.86 took: 0.66s\n",
      "Epoch 9, 40% \t train_loss: 0.88 took: 0.65s\n",
      "Epoch 9, 50% \t train_loss: 0.93 took: 0.64s\n",
      "Epoch 9, 60% \t train_loss: 0.89 took: 0.69s\n",
      "Epoch 9, 70% \t train_loss: 0.91 took: 0.78s\n",
      "Epoch 9, 80% \t train_loss: 0.95 took: 0.76s\n",
      "Epoch 9, 90% \t train_loss: 0.93 took: 0.73s\n",
      "Validation loss = 1.16\n",
      "Epoch 10, 10% \t train_loss: 0.81 took: 0.68s\n",
      "Epoch 10, 20% \t train_loss: 0.84 took: 0.74s\n",
      "Epoch 10, 30% \t train_loss: 0.85 took: 0.62s\n",
      "Epoch 10, 40% \t train_loss: 0.84 took: 0.69s\n",
      "Epoch 10, 50% \t train_loss: 0.86 took: 0.67s\n",
      "Epoch 10, 60% \t train_loss: 0.89 took: 0.67s\n",
      "Epoch 10, 70% \t train_loss: 0.85 took: 0.71s\n",
      "Epoch 10, 80% \t train_loss: 0.94 took: 0.70s\n",
      "Epoch 10, 90% \t train_loss: 0.91 took: 0.69s\n",
      "Validation loss = 1.15\n",
      "Training Finished, took 80.56s\n"
     ]
    }
   ],
   "source": [
    "net = SimpleConvolutionalNetwork()\n",
    "\n",
    "train_history, val_history = train(net, batch_size, n_epochs, learning_rate)"
   ]
  },
  {
   "cell_type": "markdown",
   "metadata": {},
   "source": [
    "Now, let's look at the evolution of the losses"
   ]
  },
  {
   "cell_type": "code",
   "execution_count": 32,
   "metadata": {},
   "outputs": [
    {
     "data": {
      "image/png": "[encoded data removed]",
      "text/plain": [
       "<matplotlib.figure.Figure at 0x7f1211c45cf8>"
      ]
     },
     "metadata": {},
     "output_type": "display_data"
    }
   ],
   "source": [
    "plot_losses(train_history, val_history)"
   ]
  },
  {
   "cell_type": "markdown",
   "metadata": {
    "colab_type": "text",
    "id": "O90WcUTwt2GU"
   },
   "source": [
    "### 5. Test the network on the test data\n",
    "\n",
    "\n",
    "We have trained the network for 2 passes over the training dataset.\n",
    "But we need to check if the network has learnt anything at all.\n",
    "\n",
    "We will check this by predicting the class label that the neural network\n",
    "outputs, and checking it against the ground-truth. If the prediction is\n",
    "correct, we add the sample to the list of correct predictions.\n",
    "\n",
    "Okay, first step. Let us display an image from the test set to get familiar.\n",
    "\n"
   ]
  },
  {
   "cell_type": "code",
   "execution_count": 33,
   "metadata": {
    "colab": {
     "autoexec": {
      "startup": false,
      "wait_interval": 0
     },
     "output_extras": [
      {},
      {}
     ]
    },
    "colab_type": "code",
    "id": "V4vljwBlt2GX",
    "outputId": "288c372a-7b4a-41ff-bac3-328e00f9c199"
   },
   "outputs": [
    {
     "name": "stdout",
     "output_type": "stream",
     "text": [
      "Gound truth:\n",
      "\n",
      "      frog       bird       bird       ship\n"
     ]
    },
    {
     "data": {
      "image/png": "[encoded data removed]",
      "text/plain": [
       "<matplotlib.figure.Figure at 0x7f1211c2d278>"
      ]
     },
     "metadata": {},
     "output_type": "display_data"
    }
   ],
   "source": [
    "dataiter = iter(test_loader)\n",
    "images, labels = dataiter.next()\n",
    "\n",
    "# print images\n",
    "imshow(torchvision.utils.make_grid(images))\n",
    "print(\"Gound truth:\\n\")\n",
    "\n",
    "print(' '.join('{:>10}'.format(classes[labels[j]]) for j in range(test_batch_size)))"
   ]
  },
  {
   "cell_type": "markdown",
   "metadata": {
    "colab_type": "text",
    "id": "KpmaQT4Zt2Gn"
   },
   "source": [
    "Okay, now let us see what the neural network thinks these examples above are:\n",
    "\n"
   ]
  },
  {
   "cell_type": "code",
   "execution_count": 34,
   "metadata": {
    "colab": {
     "autoexec": {
      "startup": false,
      "wait_interval": 0
     }
    },
    "colab_type": "code",
    "id": "utIfocFrt2Gs"
   },
   "outputs": [
    {
     "name": "stdout",
     "output_type": "stream",
     "text": [
      "torch.Size([4, 10])\n"
     ]
    }
   ],
   "source": [
    "outputs = net(Variable(images))\n",
    "print(outputs.size())"
   ]
  },
  {
   "cell_type": "markdown",
   "metadata": {
    "colab_type": "text",
    "id": "6mU42O0Gt2G2"
   },
   "source": [
    "The outputs are energies for the 10 classes.\n",
    "Higher the energy for a class, the more the network\n",
    "thinks that the image is of the particular class.\n",
    "So, let's get the index of the highest energy:\n",
    "\n"
   ]
  },
  {
   "cell_type": "code",
   "execution_count": 35,
   "metadata": {
    "colab": {
     "autoexec": {
      "startup": false,
      "wait_interval": 0
     },
     "output_extras": [
      {}
     ]
    },
    "colab_type": "code",
    "id": "IWTWHHs9t2G5",
    "outputId": "8768df7d-633c-4e20-aa0b-8ce8431ebc3f"
   },
   "outputs": [
    {
     "name": "stdout",
     "output_type": "stream",
     "text": [
      "Predicted:\n",
      "\n",
      "      frog      horse       bird      plane\n"
     ]
    },
    {
     "data": {
      "image/png": "[encoded data removed]",
      "text/plain": [
       "<matplotlib.figure.Figure at 0x7f1211bac898>"
      ]
     },
     "metadata": {},
     "output_type": "display_data"
    }
   ],
   "source": [
    "_, predicted = torch.max(outputs.data, 1)\n",
    "\n",
    "print(\"Predicted:\\n\")\n",
    "imshow(torchvision.utils.make_grid(images))\n",
    "\n",
    "print(' '.join('{:>10}'.format(classes[predicted[j]]) for j in range(test_batch_size)))"
   ]
  },
  {
   "cell_type": "markdown",
   "metadata": {
    "colab_type": "text",
    "id": "AUpCEAOTt2HK"
   },
   "source": [
    "The results seem pretty good.\n",
    "\n",
    "Let us look at how the network performs on the whole test set.\n",
    "\n"
   ]
  },
  {
   "cell_type": "code",
   "execution_count": 36,
   "metadata": {
    "colab": {
     "autoexec": {
      "startup": false,
      "wait_interval": 0
     },
     "output_extras": [
      {}
     ]
    },
    "colab_type": "code",
    "id": "LI6JtYwTt2HM",
    "outputId": "1bb1ce0a-3832-47c0-905a-07b27923069d"
   },
   "outputs": [
    {
     "name": "stdout",
     "output_type": "stream",
     "text": [
      "Computing accuracy...\n",
      "Accuracy of the network on the 20000 train images: 68.59 %\n",
      "Accuracy of the network on the 5000 validation images: 59.60 %\n",
      "Accuracy of the network on the 5000 test images: 60.56 %\n"
     ]
    }
   ],
   "source": [
    "def dataset_accuracy(net, data_loader, name=\"\"):\n",
    "    correct = 0\n",
    "    total = 0\n",
    "    for data in data_loader:\n",
    "        images, labels = data\n",
    "        outputs = net(Variable(images))\n",
    "        _, predicted = torch.max(outputs.data, 1)\n",
    "        total += labels.size(0)\n",
    "        correct += (predicted == labels).sum()\n",
    "    accuracy = 100 * correct / total\n",
    "    print('Accuracy of the network on the {} {} images: {:.2f} %'.format(total, name, accuracy))\n",
    "\n",
    "def train_set_accuracy(net):\n",
    "    dataset_accuracy(net, train_loader, \"train\")\n",
    "\n",
    "def val_set_accuracy(net):\n",
    "    dataset_accuracy(net, val_loader, \"validation\")  \n",
    "    \n",
    "def test_set_accuracy(net):\n",
    "    dataset_accuracy(net, test_loader, \"test\")\n",
    "\n",
    "def compute_accuracy(net):\n",
    "    train_set_accuracy(net)\n",
    "    val_set_accuracy(net)\n",
    "    test_set_accuracy(net)\n",
    "    \n",
    "print(\"Computing accuracy...\")\n",
    "compute_accuracy(net)"
   ]
  },
  {
   "cell_type": "markdown",
   "metadata": {
    "colab_type": "text",
    "id": "iGGyra-4t2HW"
   },
   "source": [
    "That looks waaay better than chance, which is 10% accuracy (randomly picking\n",
    "a class out of 10 classes).\n",
    "Seems like the network learnt something.\n",
    "As a baseline, a linear model achieve around 30% accuracy.\n",
    "\n",
    "Hmmm, what are the classes that performed well, and the classes that did\n",
    "not perform well:\n",
    "\n"
   ]
  },
  {
   "cell_type": "code",
   "execution_count": 37,
   "metadata": {
    "colab": {
     "autoexec": {
      "startup": false,
      "wait_interval": 0
     },
     "output_extras": [
      {}
     ]
    },
    "colab_type": "code",
    "id": "rkim9_INt2HY",
    "outputId": "995e731f-3a34-4500-8880-259de3ea27de"
   },
   "outputs": [
    {
     "name": "stdout",
     "output_type": "stream",
     "text": [
      "Class      Accuracy (%)\n",
      "plane        57.99   \n",
      "car          65.94   \n",
      "bird         49.22   \n",
      "cat          42.86   \n",
      "deer         44.77   \n",
      "dog          47.54   \n",
      "frog         81.06   \n",
      "horse        69.49   \n",
      "ship         78.97   \n",
      "truck        67.84   \n"
     ]
    }
   ],
   "source": [
    "def accuracy_per_class(net):\n",
    "    n_classes = 10\n",
    "    class_correct = list(0. for i in range(n_classes))\n",
    "    class_total = list(0. for i in range(n_classes))\n",
    "    # (real, predicted)\n",
    "    confusion_matrix = np.zeros((n_classes, n_classes), dtype=np.int64)\n",
    "\n",
    "    for data in test_loader:\n",
    "        images, labels = data\n",
    "        outputs = net(Variable(images))\n",
    "        _, predicted = torch.max(outputs.data, 1)\n",
    "        c = (predicted == labels).squeeze()\n",
    "        for i in range(test_batch_size):\n",
    "            confusion_matrix[labels[i], predicted[i]] += 1\n",
    "            label = labels[i]\n",
    "            class_correct[label] += c[i]\n",
    "            class_total[label] += 1\n",
    "\n",
    "    print(\"{:<10} {:^10}\".format(\"Class\", \"Accuracy (%)\"))\n",
    "    for i in range(n_classes):\n",
    "        print('{:<10} {:^10.2f}'.format(\n",
    "            classes[i], 100 * class_correct[i] / class_total[i]))\n",
    "    return confusion_matrix\n",
    "\n",
    "confusion_matrix = accuracy_per_class(net)"
   ]
  },
  {
   "cell_type": "markdown",
   "metadata": {},
   "source": [
    "### Confusion Matrix"
   ]
  },
  {
   "cell_type": "markdown",
   "metadata": {},
   "source": [
    "Let's look at what type of error our networks makes..."
   ]
  },
  {
   "cell_type": "markdown",
   "metadata": {},
   "source": [
    "Hmm, it seems that our network is pretty good at classifying ships,\n",
    "but has some difficulties to differentiate cats and dogs...\n",
    "\n",
    "Also, it classifies a lot of trucks as cars."
   ]
  },
  {
   "cell_type": "code",
   "execution_count": 38,
   "metadata": {},
   "outputs": [
    {
     "data": {
      "image/png": "[encoded data removed]",
      "text/plain": [
       "<matplotlib.figure.Figure at 0x7f1211bc60f0>"
      ]
     },
     "metadata": {},
     "output_type": "display_data"
    },
    {
     "data": {
      "image/png": "[encoded data removed]",
      "text/plain": [
       "<matplotlib.figure.Figure at 0x7f1211bc6da0>"
      ]
     },
     "metadata": {},
     "output_type": "display_data"
    }
   ],
   "source": [
    "# Plot normalized confusion matrix\n",
    "plot_confusion_matrix(confusion_matrix, classes, normalize=True,\n",
    "                      title='Normalized confusion matrix')\n",
    "\n",
    "# Plot non-normalized confusion matrix\n",
    "plot_confusion_matrix(confusion_matrix, classes,\n",
    "                      title='Confusion matrix, without normalization')"
   ]
  },
  {
   "cell_type": "markdown",
   "metadata": {
    "colab_type": "text",
    "id": "MVv-mV8Pt2Hs"
   },
   "source": [
    "# III. Exploring CNN Architectures\n",
    "\n",
    "Now, that's your turn to build a Convolutional Neural Network. The goal of this section is to explore different CNN architectures and set of hyperparameters in order to obtain the best accuracy on the test set!\n",
    "\n",
    "The network that you have to tweak is called **MyConvolutionalNetwork**.\n",
    "\n",
    "You can start changing the batch_size, number of epochs and then try adding more convolutional layers."
   ]
  },
  {
   "cell_type": "markdown",
   "metadata": {},
   "source": [
    "### PyTorch functions to build the network\n",
    "- **nn.Conv2d(in_channels, out_channels, kernel_size, stride=1, padding=0):** Convolution layer. You can read the full documentation [here](http://pytorch.org/docs/master/nn.html#conv2d)\n",
    "\n",
    "- **nn.MaxPool2d(kernel_size, stride=None, padding=0):** Max pooling layer. You can read the full documentation [here](http://pytorch.org/docs/master/nn.html#maxpool2d)\n",
    "\n",
    "- **F.relu(Z1):** computes the elementwise ReLU of Z1 (which can be any shape). You can read the full documentation [here.](http://pytorch.org/docs/master/nn.html#torch.nn.ReLU)\n",
    "\n",
    "- **x.view(new_shape)**: Returns a new tensor with the same data but different size. It is the equivalent of numpy function *reshape* (Gives a new shape to an array without changing its data.). You can read the full documentation [here.](http://pytorch.org/docs/master/tensors.html#torch.Tensor.view)\n",
    "\n",
    "- **nn.Linear(in_features, out_features):** Applies a linear transformation to the incoming data: $y = Ax + b$, it is also called a fully connected layer. You can read the full documentation [here.](http://pytorch.org/docs/master/nn.html#linear-layers)"
   ]
  },
  {
   "cell_type": "markdown",
   "metadata": {},
   "source": [
    "**Convolution Formulas**:\n",
    "\n",
    "The formulas relating the output shape $(C_2, H_2, W_2)$ of the convolution to the input shape $(C_1, H_1, W_1)$ is:\n",
    "\n",
    "\n",
    "$$ H_2 = \\lfloor \\frac{H_1 - kernel\\_size + 2 \\times padding}{stride} \\rfloor +1 $$\n",
    "\n",
    "$$ W_2 = \\lfloor \\frac{W_1 - kernel\\_size + 2 \\times padding}{stride} \\rfloor +1 $$\n",
    "\n",
    "$$ C_2 = \\text{number of filters used in the convolution}$$\n",
    "\n",
    "NOTE: $C_2 = C_1$ in the case of max pooling\n",
    "\n",
    "where:\n",
    "- $H_2$: height of the output volume  \n",
    "- $W_2$: width of the output volume  \n",
    "- $C_1$: in_channels, number of channels in the input volume\n",
    "- $C_2$: out_channels"
   ]
  },
  {
   "cell_type": "code",
   "execution_count": 39,
   "metadata": {
    "collapsed": true
   },
   "outputs": [],
   "source": [
    "def get_output_size(in_size, kernel_size, stride=1, padding=0):\n",
    "    \"\"\"\n",
    "    Get the output size given all the parameters of the convolution\n",
    "    :param in_size: (int) input size\n",
    "    :param kernel_size: (int)\n",
    "    :param stride: (int)\n",
    "    :param paddind: (int)\n",
    "    :return: (int)\n",
    "    \"\"\"\n",
    "    return int((in_size - kernel_size + 2 * padding) / stride) + 1"
   ]
  },
  {
   "cell_type": "markdown",
   "metadata": {},
   "source": [
    "#### Example use of get_output_size() helper\n",
    "\n",
    "Let's assume your have an input volume of size 3x32x32 (where 3 is the number of channels)\n",
    "and you use a 2D convolution with the following parameters:\n",
    "\n",
    "```python\n",
    "conv1 = nn.Conv2d(3, 18, kernel_size=7, stride=2, padding=1)\n",
    "```\n",
    "then, the size of the output volume is 18x?x? (because we have 18 filters) where ? is given by the convolution formulas (see above).\n",
    "\n",
    "get_output_size() function allows to compute that size:\n",
    "\n",
    "```\n",
    "out_size = get_output_size(in_size=32, kernel_size=7, stride=2, padding=1)\n",
    "print(out_size) # prints 14\n",
    "```\n",
    "\n",
    "That is to say, the output volume is 18x14x14"
   ]
  },
  {
   "cell_type": "code",
   "execution_count": 40,
   "metadata": {},
   "outputs": [
    {
     "name": "stdout",
     "output_type": "stream",
     "text": [
      "14\n"
     ]
    }
   ],
   "source": [
    "out_size = get_output_size(in_size=32, kernel_size=7, stride=2, padding=1)\n",
    "print(out_size)"
   ]
  },
  {
   "cell_type": "markdown",
   "metadata": {},
   "source": [
    "Below is the neural network you have to edit:"
   ]
  },
  {
   "cell_type": "code",
   "execution_count": 41,
   "metadata": {},
   "outputs": [],
   "source": [
    "class MyConvolutionalNetwork(nn.Module):\n",
    "    def __init__(self):\n",
    "        super(MyConvolutionalNetwork, self).__init__()\n",
    "        \n",
    "        self.conv1 = nn.Conv2d(3, 18, kernel_size=7, stride=2, padding=1)\n",
    "        self.pool = nn.MaxPool2d(kernel_size=2, stride=2, padding=0)\n",
    "\n",
    "        #### START CODE: ADD NEW LAYERS ####\n",
    "        # (do not forget to update `flattened_size`: the input size of self.fc1)\n",
    "        # self.conv2 = ...\n",
    "        \n",
    "        # Size of the output of the last convolution:\n",
    "        self.flattened_size = 18 * 7 * 7\n",
    "        ### END CODE ###\n",
    "        \n",
    "        self.fc1 = nn.Linear(self.flattened_size, 64)\n",
    "        self.fc2 = nn.Linear(64, 10)\n",
    "\n",
    "    def forward(self, x):\n",
    "        \"\"\"\n",
    "        Forward pass,\n",
    "        x shape is (batch_size, 3, 32, 32)\n",
    "        (color channel first)\n",
    "        in the comments, we omit the batch_size in the shape\n",
    "        \"\"\"\n",
    "        # shape : 3x32x32 -> 18x14x14\n",
    "        x = F.relu(self.conv1(x))\n",
    "        # 18x14x14 -> 18x7x7\n",
    "        x = self.pool(x)\n",
    "        \n",
    "        #### START CODE: USE YOUR NEW LAYERS HERE ####\n",
    "        # x = ...\n",
    "        \n",
    "        #### END CODE ####\n",
    "        \n",
    "        # Check the output size\n",
    "        output_size = np.prod(x.size()[1:])\n",
    "        assert output_size == self.flattened_size,\\\n",
    "                \"self.flattened_size is invalid {} != {}\".format(output_size, self.flattened_size)\n",
    "        \n",
    "        # 18x7x7 -> 882\n",
    "        x = x.view(-1, self.flattened_size)\n",
    "        # 882 -> 64\n",
    "        x = F.relu(self.fc1(x))\n",
    "        # 64 -> 10\n",
    "        x = self.fc2(x)\n",
    "        return x"
   ]
  },
  {
   "cell_type": "code",
   "execution_count": 42,
   "metadata": {
    "scrolled": false
   },
   "outputs": [
    {
     "name": "stdout",
     "output_type": "stream",
     "text": [
      "===== HYPERPARAMETERS =====\n",
      "batch_size= 32\n",
      "n_epochs= 10\n",
      "learning_rate= 0.001\n",
      "==============================\n",
      "Epoch 1, 10% \t train_loss: 2.12 took: 0.76s\n",
      "Epoch 1, 20% \t train_loss: 1.91 took: 0.58s\n",
      "Epoch 1, 30% \t train_loss: 1.76 took: 0.74s\n",
      "Epoch 1, 40% \t train_loss: 1.71 took: 0.79s\n",
      "Epoch 1, 50% \t train_loss: 1.63 took: 0.84s\n",
      "Epoch 1, 60% \t train_loss: 1.60 took: 0.74s\n",
      "Epoch 1, 70% \t train_loss: 1.54 took: 0.82s\n",
      "Epoch 1, 80% \t train_loss: 1.56 took: 0.84s\n",
      "Epoch 1, 90% \t train_loss: 1.51 took: 0.69s\n",
      "Validation loss = 1.41\n",
      "Epoch 2, 10% \t train_loss: 1.38 took: 0.78s\n",
      "Epoch 2, 20% \t train_loss: 1.40 took: 0.73s\n",
      "Epoch 2, 30% \t train_loss: 1.39 took: 0.73s\n",
      "Epoch 2, 40% \t train_loss: 1.41 took: 0.80s\n",
      "Epoch 2, 50% \t train_loss: 1.34 took: 0.67s\n",
      "Epoch 2, 60% \t train_loss: 1.32 took: 0.65s\n",
      "Epoch 2, 70% \t train_loss: 1.37 took: 0.71s\n",
      "Epoch 2, 80% \t train_loss: 1.37 took: 0.68s\n",
      "Epoch 2, 90% \t train_loss: 1.35 took: 0.71s\n",
      "Validation loss = 1.33\n",
      "Epoch 3, 10% \t train_loss: 1.26 took: 0.73s\n",
      "Epoch 3, 20% \t train_loss: 1.28 took: 0.76s\n",
      "Epoch 3, 30% \t train_loss: 1.26 took: 0.63s\n",
      "Epoch 3, 40% \t train_loss: 1.27 took: 0.63s\n",
      "Epoch 3, 50% \t train_loss: 1.25 took: 0.64s\n",
      "Epoch 3, 60% \t train_loss: 1.21 took: 0.66s\n",
      "Epoch 3, 70% \t train_loss: 1.26 took: 0.67s\n",
      "Epoch 3, 80% \t train_loss: 1.20 took: 0.73s\n",
      "Epoch 3, 90% \t train_loss: 1.19 took: 0.70s\n",
      "Validation loss = 1.26\n",
      "Epoch 4, 10% \t train_loss: 1.20 took: 0.76s\n",
      "Epoch 4, 20% \t train_loss: 1.12 took: 0.93s\n",
      "Epoch 4, 30% \t train_loss: 1.10 took: 0.82s\n",
      "Epoch 4, 40% \t train_loss: 1.13 took: 0.80s\n",
      "Epoch 4, 50% \t train_loss: 1.14 took: 0.82s\n",
      "Epoch 4, 60% \t train_loss: 1.18 took: 0.73s\n",
      "Epoch 4, 70% \t train_loss: 1.18 took: 0.73s\n",
      "Epoch 4, 80% \t train_loss: 1.17 took: 0.83s\n",
      "Epoch 4, 90% \t train_loss: 1.12 took: 0.91s\n",
      "Validation loss = 1.16\n",
      "Epoch 5, 10% \t train_loss: 1.07 took: 0.80s\n",
      "Epoch 5, 20% \t train_loss: 1.03 took: 0.71s\n",
      "Epoch 5, 30% \t train_loss: 1.10 took: 0.72s\n",
      "Epoch 5, 40% \t train_loss: 1.09 took: 0.71s\n",
      "Epoch 5, 50% \t train_loss: 1.09 took: 0.79s\n",
      "Epoch 5, 60% \t train_loss: 1.08 took: 0.72s\n",
      "Epoch 5, 70% \t train_loss: 1.08 took: 0.74s\n",
      "Epoch 5, 80% \t train_loss: 1.05 took: 0.69s\n",
      "Epoch 5, 90% \t train_loss: 1.07 took: 0.79s\n",
      "Validation loss = 1.16\n",
      "Epoch 6, 10% \t train_loss: 0.95 took: 0.84s\n",
      "Epoch 6, 20% \t train_loss: 1.01 took: 0.65s\n",
      "Epoch 6, 30% \t train_loss: 1.05 took: 0.67s\n",
      "Epoch 6, 40% \t train_loss: 1.01 took: 0.80s\n",
      "Epoch 6, 50% \t train_loss: 1.04 took: 0.77s\n",
      "Epoch 6, 60% \t train_loss: 1.04 took: 0.66s\n",
      "Epoch 6, 70% \t train_loss: 0.99 took: 0.72s\n",
      "Epoch 6, 80% \t train_loss: 1.05 took: 0.81s\n",
      "Epoch 6, 90% \t train_loss: 1.04 took: 0.82s\n",
      "Validation loss = 1.17\n",
      "Epoch 7, 10% \t train_loss: 0.93 took: 0.72s\n",
      "Epoch 7, 20% \t train_loss: 0.92 took: 0.67s\n",
      "Epoch 7, 30% \t train_loss: 0.98 took: 0.65s\n",
      "Epoch 7, 40% \t train_loss: 0.97 took: 0.65s\n",
      "Epoch 7, 50% \t train_loss: 0.94 took: 0.64s\n",
      "Epoch 7, 60% \t train_loss: 0.97 took: 0.65s\n",
      "Epoch 7, 70% \t train_loss: 1.01 took: 0.67s\n",
      "Epoch 7, 80% \t train_loss: 1.01 took: 0.74s\n",
      "Epoch 7, 90% \t train_loss: 1.00 took: 0.82s\n",
      "Validation loss = 1.17\n",
      "Epoch 8, 10% \t train_loss: 0.93 took: 0.76s\n",
      "Epoch 8, 20% \t train_loss: 0.91 took: 0.68s\n",
      "Epoch 8, 30% \t train_loss: 0.89 took: 0.64s\n",
      "Epoch 8, 40% \t train_loss: 0.91 took: 0.67s\n",
      "Epoch 8, 50% \t train_loss: 0.92 took: 0.67s\n",
      "Epoch 8, 60% \t train_loss: 0.90 took: 0.66s\n",
      "Epoch 8, 70% \t train_loss: 0.95 took: 0.75s\n",
      "Epoch 8, 80% \t train_loss: 0.97 took: 0.72s\n",
      "Epoch 8, 90% \t train_loss: 0.93 took: 0.79s\n",
      "Validation loss = 1.17\n",
      "Epoch 9, 10% \t train_loss: 0.89 took: 0.75s\n",
      "Epoch 9, 20% \t train_loss: 0.89 took: 0.74s\n",
      "Epoch 9, 30% \t train_loss: 0.90 took: 0.64s\n",
      "Epoch 9, 40% \t train_loss: 0.86 took: 0.61s\n",
      "Epoch 9, 50% \t train_loss: 0.89 took: 0.65s\n",
      "Epoch 9, 60% \t train_loss: 0.90 took: 0.65s\n",
      "Epoch 9, 70% \t train_loss: 0.83 took: 0.64s\n",
      "Epoch 9, 80% \t train_loss: 0.89 took: 0.67s\n",
      "Epoch 9, 90% \t train_loss: 0.93 took: 0.71s\n",
      "Validation loss = 1.14\n",
      "Epoch 10, 10% \t train_loss: 0.79 took: 0.76s\n",
      "Epoch 10, 20% \t train_loss: 0.82 took: 0.81s\n",
      "Epoch 10, 30% \t train_loss: 0.83 took: 0.83s\n",
      "Epoch 10, 40% \t train_loss: 0.87 took: 0.69s\n",
      "Epoch 10, 50% \t train_loss: 0.88 took: 0.65s\n",
      "Epoch 10, 60% \t train_loss: 0.85 took: 0.64s\n",
      "Epoch 10, 70% \t train_loss: 0.85 took: 0.64s\n",
      "Epoch 10, 80% \t train_loss: 0.85 took: 0.73s\n",
      "Epoch 10, 90% \t train_loss: 0.86 took: 0.68s\n",
      "Validation loss = 1.16\n",
      "Training Finished, took 77.98s\n"
     ]
    }
   ],
   "source": [
    "net = MyConvolutionalNetwork()\n",
    "train_history, val_history = train(net, batch_size=32, n_epochs=10, learning_rate=0.001)"
   ]
  },
  {
   "cell_type": "markdown",
   "metadata": {},
   "source": [
    "### Losses Plot"
   ]
  },
  {
   "cell_type": "code",
   "execution_count": 43,
   "metadata": {},
   "outputs": [
    {
     "data": {
      "image/png": "[encoded data removed]",
      "text/plain": [
       "<matplotlib.figure.Figure at 0x7f122843c668>"
      ]
     },
     "metadata": {},
     "output_type": "display_data"
    }
   ],
   "source": [
    "plot_losses(train_history, val_history)"
   ]
  },
  {
   "cell_type": "markdown",
   "metadata": {},
   "source": [
    "### Accuracy of the trained model"
   ]
  },
  {
   "cell_type": "code",
   "execution_count": 44,
   "metadata": {},
   "outputs": [
    {
     "name": "stdout",
     "output_type": "stream",
     "text": [
      "Accuracy of the network on the 20000 train images: 71.98 %\n",
      "Accuracy of the network on the 5000 validation images: 61.66 %\n",
      "Accuracy of the network on the 5000 test images: 60.54 %\n"
     ]
    }
   ],
   "source": [
    "compute_accuracy(net)"
   ]
  },
  {
   "cell_type": "markdown",
   "metadata": {},
   "source": [
    "**Baseline: Simple Convolutional Neural Network (form part II)**\n",
    "\n",
    "<table>\n",
    "<tr>\n",
    "    <td>Accuracy on the test set:</td>\n",
    "    <td>60.56 %</td>\n",
    "</tr>\n",
    "</table>"
   ]
  },
  {
   "cell_type": "code",
   "execution_count": 45,
   "metadata": {},
   "outputs": [
    {
     "name": "stdout",
     "output_type": "stream",
     "text": [
      "Class      Accuracy (%)\n",
      "plane        62.50   \n",
      "car          71.09   \n",
      "bird         41.80   \n",
      "cat          38.03   \n",
      "deer         60.95   \n",
      "dog          44.88   \n",
      "frog         69.65   \n",
      "horse        66.87   \n",
      "ship         88.10   \n",
      "truck        61.40   \n"
     ]
    }
   ],
   "source": [
    "confusion_matrix = accuracy_per_class(net)"
   ]
  },
  {
   "cell_type": "code",
   "execution_count": 46,
   "metadata": {},
   "outputs": [
    {
     "data": {
      "image/png": "[encoded data removed]",
      "text/plain": [
       "<matplotlib.figure.Figure at 0x7f121058e978>"
      ]
     },
     "metadata": {},
     "output_type": "display_data"
    }
   ],
   "source": [
    "plot_confusion_matrix(confusion_matrix, classes,\n",
    "                      title='Confusion matrix, without normalization')"
   ]
  },
  {
   "cell_type": "markdown",
   "metadata": {
    "colab_type": "text",
    "id": "7xzIkZqit2IA"
   },
   "source": [
    "### Going further\n",
    "\n",
    "- [Coursera Course on CNN](https://www.coursera.org/learn/convolutional-neural-networks)\n",
    "- [Standford Course](http://cs231n.stanford.edu/syllabus.html)\n",
    "- [PyTorch Tutorial](http://pytorch.org/tutorials/beginner/blitz/cifar10_tutorial.html)"
   ]
  }
 ],
 "metadata": {
  "colab": {
   "collapsed_sections": [],
   "default_view": {},
   "name": "cifar10_tutorial.ipynb",
   "provenance": [],
   "version": "0.3.2",
   "views": {}
  },
  "kernelspec": {
   "display_name": "Python 3",
   "language": "python",
   "name": "python3"
  },
  "language_info": {
   "codemirror_mode": {
    "name": "ipython",
    "version": 3
   },
   "file_extension": ".py",
   "mimetype": "text/x-python",
   "name": "python",
   "nbconvert_exporter": "python",
   "pygments_lexer": "ipython3",
   "version": "3.5.2"
  }
 },
 "nbformat": 4,
 "nbformat_minor": 1
}
